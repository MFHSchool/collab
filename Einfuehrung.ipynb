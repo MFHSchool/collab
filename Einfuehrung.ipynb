{
  "nbformat": 4,
  "nbformat_minor": 0,
  "metadata": {
    "colab": {
      "provenance": [],
      "authorship_tag": "ABX9TyPzp+uXFvvqrs12j2/SGjBl",
      "include_colab_link": true
    },
    "kernelspec": {
      "name": "python3",
      "display_name": "Python 3"
    },
    "language_info": {
      "name": "python"
    }
  },
  "cells": [
    {
      "cell_type": "markdown",
      "metadata": {
        "id": "view-in-github",
        "colab_type": "text"
      },
      "source": [
        "<a href=\"https://colab.research.google.com/github/MFHSchool/collab/blob/main/Einfuehrung.ipynb\" target=\"_parent\"><img src=\"https://colab.research.google.com/assets/colab-badge.svg\" alt=\"Open In Colab\"/></a>"
      ]
    },
    {
      "cell_type": "markdown",
      "source": [
        "# Einführung in Google Colab\n",
        "Google Colab ist ein Online-Notizbuch, in dem man mit der Programmiersprache Python arbeiten kann. Es wird oft verwendet, um Code zu schreiben, auszuprobieren und direkt auszuführen – ganz ohne Installation auf dem eigenen Computer.\n",
        "\n",
        "## Code hinzufügen\n",
        "\n",
        "Um eigenen Code zu schreiben, muss man ein Codefeld einfügen:\n",
        "\n",
        "* Klicke hirzu auf `+ Code`.\n",
        "\n",
        "* Es erscheint ein Feld, in das man Python-Code schreiben kann. Beispiel:\n",
        "  ```python\n",
        "  print(\"Hallo Welt!\")\n",
        "  ```\n",
        "\n",
        "## Code ausführen\n",
        "\n",
        "Um den Code zu starten:\n",
        "\n",
        "* Klicke auf das Start-Symbol (▶️) links neben dem Codefeld.\n",
        "\n",
        "\n",
        "Das Ergebnis des Codes wird direkt unter dem Feld angezeigt.\n",
        "\n",
        "Beispiel-Ausgabe:\n",
        "\n",
        "```python\n",
        "Hallo Welt!\n",
        "```\n",
        "\n",
        "## Weitere Hinweise\n",
        "* Du kannst mehrere Codefelder verwenden, um deinen Code übersichtlich zu strukturieren.\n",
        "\n",
        "* Zusätzlich kannst du Textfelder mit `+ Text` einfügen, um Erklärungen oder Notizen zu schreiben."
      ],
      "metadata": {
        "id": "5n-Qo-bUEtPp"
      }
    }
  ]
}